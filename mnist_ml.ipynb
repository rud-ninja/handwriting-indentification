{
  "nbformat": 4,
  "nbformat_minor": 0,
  "metadata": {
    "colab": {
      "provenance": []
    },
    "kernelspec": {
      "name": "python3",
      "display_name": "Python 3"
    },
    "language_info": {
      "name": "python"
    }
  },
  "cells": [
    {
      "cell_type": "code",
      "source": [
        "!pip install python-mnist"
      ],
      "metadata": {
        "id": "PMB1i9NMm567"
      },
      "execution_count": null,
      "outputs": []
    },
    {
      "cell_type": "code",
      "source": [
        "!pip install emnist"
      ],
      "metadata": {
        "id": "8lOl-K-Al3lN"
      },
      "execution_count": null,
      "outputs": []
    },
    {
      "cell_type": "code",
      "execution_count": null,
      "metadata": {
        "id": "6kOnZrRckepb"
      },
      "outputs": [],
      "source": [
        "import tensorflow as tf\n",
        "# from tensorflow.keras.preprocessing.image import ImageDataGenerator\n",
        "\n",
        "from mnist import MNIST\n",
        "\n",
        "import numpy as np\n",
        "import matplotlib.pyplot as plt\n",
        "import pandas as pd\n",
        "import cv2\n",
        "from emnist import extract_training_samples\n",
        "from emnist import list_datasets\n",
        "from emnist import extract_test_samples"
      ]
    },
    {
      "cell_type": "code",
      "source": [
        "# list_datasets()"
      ],
      "metadata": {
        "colab": {
          "base_uri": "https://localhost:8080/"
        },
        "id": "kw0t6Z89kwIr",
        "outputId": "0fa5b490-94fd-465f-b002-871987dfa618"
      },
      "execution_count": null,
      "outputs": [
        {
          "output_type": "stream",
          "name": "stderr",
          "text": [
            "Downloading emnist.zip: 536MB [00:07, 75.0MB/s]\n"
          ]
        },
        {
          "output_type": "execute_result",
          "data": {
            "text/plain": [
              "['balanced', 'byclass', 'bymerge', 'digits', 'letters', 'mnist']"
            ]
          },
          "metadata": {},
          "execution_count": 4
        }
      ]
    },
    {
      "cell_type": "code",
      "source": [
        "train_images, train_labels = extract_training_samples('byclass')\n",
        "# print(train_images.shape)\n",
        "# print(train_labels.shape)"
      ],
      "metadata": {
        "id": "cRo0CMrQnEDv"
      },
      "execution_count": null,
      "outputs": []
    },
    {
      "cell_type": "code",
      "source": [
        "test_images, test_labels = extract_test_samples('byclass')\n",
        "# print(test_images.shape)\n",
        "# print(test_labels.shape)"
      ],
      "metadata": {
        "id": "2E68USosnLw7"
      },
      "execution_count": null,
      "outputs": []
    },
    {
      "cell_type": "code",
      "source": [
        "X_train = []\n",
        "y_train = train_labels.copy()\n",
        "X_test = []\n",
        "y_test = test_labels.copy()"
      ],
      "metadata": {
        "id": "7YG3Zplfw2Oy"
      },
      "execution_count": null,
      "outputs": []
    },
    {
      "cell_type": "code",
      "source": [
        "def reprocess(image):\n",
        "    image = cv2.resize(image, (32, 32), interpolation=cv2.INTER_AREA)\n",
        "    ret, image = cv2.threshold(image, 100, 255, cv2.THRESH_BINARY+cv2.THRESH_OTSU)\n",
        "    image = cv2.GaussianBlur(image, (3,3), 0)\n",
        "    image = image.astype('float32')\n",
        "    image/=255\n",
        "\n",
        "    return image"
      ],
      "metadata": {
        "id": "U1No3JkleJ13"
      },
      "execution_count": null,
      "outputs": []
    },
    {
      "cell_type": "code",
      "source": [
        "for idx, img in enumerate(train_images):\n",
        "    img = reprocess(train_images[idx])\n",
        "    X_train.append(img)"
      ],
      "metadata": {
        "id": "Pxz189htwDHn"
      },
      "execution_count": null,
      "outputs": []
    },
    {
      "cell_type": "code",
      "source": [
        "X_train = np.array(X_train)\n",
        "X_train = np.expand_dims(X_train, axis=3)\n",
        "del train_images\n",
        "del train_labels"
      ],
      "metadata": {
        "id": "5pcGTBvW2xiY"
      },
      "execution_count": null,
      "outputs": []
    },
    {
      "cell_type": "code",
      "source": [
        "for idx, img in enumerate(test_images):\n",
        "    img = reprocess(test_images[idx])\n",
        "    X_test.append(img)"
      ],
      "metadata": {
        "id": "udaL8kEAyj7a"
      },
      "execution_count": null,
      "outputs": []
    },
    {
      "cell_type": "code",
      "source": [
        "X_test = np.array(X_test)\n",
        "X_test = np.expand_dims(X_test, axis=3)\n",
        "del test_images\n",
        "del test_labels"
      ],
      "metadata": {
        "id": "-QB0TglU4dJJ"
      },
      "execution_count": null,
      "outputs": []
    },
    {
      "cell_type": "code",
      "source": [
        "X_train.shape"
      ],
      "metadata": {
        "colab": {
          "base_uri": "https://localhost:8080/"
        },
        "id": "9MNeI3eazQEB",
        "outputId": "c1c98e44-3c69-4963-c66c-8e5481593c3e"
      },
      "execution_count": null,
      "outputs": [
        {
          "output_type": "execute_result",
          "data": {
            "text/plain": [
              "(697932, 32, 32, 1)"
            ]
          },
          "metadata": {},
          "execution_count": 10
        }
      ]
    },
    {
      "cell_type": "code",
      "source": [
        "X_test.shape"
      ],
      "metadata": {
        "colab": {
          "base_uri": "https://localhost:8080/"
        },
        "id": "MdHe0L-UytZv",
        "outputId": "057ef191-e785-4ea4-989a-159979b9ea38"
      },
      "execution_count": null,
      "outputs": [
        {
          "output_type": "execute_result",
          "data": {
            "text/plain": [
              "(116323, 32, 32, 1)"
            ]
          },
          "metadata": {},
          "execution_count": 11
        }
      ]
    },
    {
      "cell_type": "code",
      "source": [
        "# X_train = np.expand_dims(X_train, axis=3)\n",
        "# X_test = np.expand_dims(X_test, axis=3)"
      ],
      "metadata": {
        "id": "nA-s3zazz4lN"
      },
      "execution_count": null,
      "outputs": []
    },
    {
      "cell_type": "code",
      "source": [
        "# X_train = X_train.astype('float32')\n",
        "# X_test = X_test.astype('float32')"
      ],
      "metadata": {
        "id": "7t2wvguMz9R6"
      },
      "execution_count": null,
      "outputs": []
    },
    {
      "cell_type": "code",
      "source": [
        "# train_images = tf.keras.utils.normalize(train_images, axis = 1)\n",
        "# test_images = tf.keras.utils.normalize(test_images, axis = 1)"
      ],
      "metadata": {
        "id": "eaXthzFJ0NBk"
      },
      "execution_count": null,
      "outputs": []
    },
    {
      "cell_type": "code",
      "source": [
        "# train_images = np.expand_dims(train_images, axis=3)\n",
        "# test_images = np.expand_dims(test_images, axis=3)"
      ],
      "metadata": {
        "id": "ZKRbJlz52KkE"
      },
      "execution_count": null,
      "outputs": []
    },
    {
      "cell_type": "code",
      "source": [
        "# model = tf.keras.Sequential()\n",
        "# model.add(tf.keras.layers.Conv2D(32, kernel_size=(3, 3), activation='relu', input_shape=(28, 28, 1), padding='same'))\n",
        "# model.add(tf.keras.layers.MaxPooling2D((2, 2)))\n",
        "\n",
        "# model.add(tf.keras.layers.Conv2D(64, (3,3), activation='relu'))\n",
        "# model.add(tf.keras.layers.MaxPooling2D(2,2))\n",
        "\n",
        "# model.add(tf.keras.layers.Conv2D(128, (3,3), activation='relu'))\n",
        "# model.add(tf.keras.layers.MaxPooling2D(2,2))\n",
        "\n",
        "# model.add(tf.keras.layers.Dropout(0.2))\n",
        "\n",
        "# model.add(tf.keras.layers.Flatten())\n",
        "# model.add(tf.keras.layers.Dense(256, activation='relu'))\n",
        "# model.add(tf.keras.layers.Dense(128, activation='relu'))\n",
        "# model.add(tf.keras.layers.Dense(62, activation = 'softmax'))"
      ],
      "metadata": {
        "id": "7ytDZeD6qPF4"
      },
      "execution_count": null,
      "outputs": []
    },
    {
      "cell_type": "code",
      "source": [
        "model = tf.keras.Sequential()\n",
        "model.add(tf.keras.layers.Conv2D(32, kernel_size=(3, 3), input_shape=(32, 32, 1), padding='same'))\n",
        "model.add(tf.keras.layers.BatchNormalization(axis=3))\n",
        "model.add(tf.keras.layers.Activation('relu'))\n",
        "model.add(tf.keras.layers.MaxPooling2D((2, 2)))\n",
        "\n",
        "model.add(tf.keras.layers.Conv2D(32, (3,3)))\n",
        "model.add(tf.keras.layers.BatchNormalization(axis=3))\n",
        "model.add(tf.keras.layers.Activation('relu'))\n",
        "# model.add(tf.keras.layers.MaxPooling2D(2,2))\n",
        "\n",
        "model.add(tf.keras.layers.Conv2D(64, (3,3)))\n",
        "model.add(tf.keras.layers.BatchNormalization(axis=3))\n",
        "model.add(tf.keras.layers.Activation('relu'))\n",
        "# model.add(tf.keras.layers.MaxPooling2D(2,2))\n",
        "\n",
        "model.add(tf.keras.layers.Dropout(0.2))\n",
        "\n",
        "model.add(tf.keras.layers.Flatten())\n",
        "model.add(tf.keras.layers.Dense(128, activation='relu'))\n",
        "model.add(tf.keras.layers.Dense(64, activation='relu'))\n",
        "model.add(tf.keras.layers.Dense(62, activation = 'softmax'))"
      ],
      "metadata": {
        "id": "cWB3g1fm_xTE"
      },
      "execution_count": null,
      "outputs": []
    },
    {
      "cell_type": "code",
      "source": [
        "model.compile(optimizer='adam',\n",
        "              loss=tf.keras.losses.SparseCategoricalCrossentropy(),\n",
        "              metrics=['accuracy'])"
      ],
      "metadata": {
        "id": "N20GalFBxv3F"
      },
      "execution_count": null,
      "outputs": []
    },
    {
      "cell_type": "code",
      "source": [
        "model.fit(X_train, y_train, epochs=10)"
      ],
      "metadata": {
        "colab": {
          "base_uri": "https://localhost:8080/"
        },
        "id": "C8qG3b9Gx6CD",
        "outputId": "03b92d92-5228-4fd7-b013-a7e9c2ea2337"
      },
      "execution_count": null,
      "outputs": [
        {
          "output_type": "stream",
          "name": "stdout",
          "text": [
            "Epoch 1/10\n",
            "21811/21811 [==============================] - 1170s 53ms/step - loss: 0.4906 - accuracy: 0.8304\n",
            "Epoch 2/10\n",
            "21811/21811 [==============================] - 1156s 53ms/step - loss: 0.3962 - accuracy: 0.8558\n",
            "Epoch 3/10\n",
            "21811/21811 [==============================] - 1154s 53ms/step - loss: 0.3756 - accuracy: 0.8617\n",
            "Epoch 4/10\n",
            "21811/21811 [==============================] - 1157s 53ms/step - loss: 0.3628 - accuracy: 0.8653\n",
            "Epoch 5/10\n",
            "21811/21811 [==============================] - 1146s 53ms/step - loss: 0.3529 - accuracy: 0.8675\n",
            "Epoch 6/10\n",
            "21811/21811 [==============================] - 1144s 52ms/step - loss: 0.3452 - accuracy: 0.8700\n",
            "Epoch 7/10\n",
            "21811/21811 [==============================] - 1148s 53ms/step - loss: 0.3381 - accuracy: 0.8721\n",
            "Epoch 8/10\n",
            "21811/21811 [==============================] - 1157s 53ms/step - loss: 0.3324 - accuracy: 0.8737\n",
            "Epoch 9/10\n",
            "21811/21811 [==============================] - 1151s 53ms/step - loss: 0.3263 - accuracy: 0.8757\n",
            "Epoch 10/10\n",
            "21811/21811 [==============================] - 1150s 53ms/step - loss: 0.3231 - accuracy: 0.8767\n"
          ]
        },
        {
          "output_type": "execute_result",
          "data": {
            "text/plain": [
              "<keras.callbacks.History at 0x7f71b28d08b0>"
            ]
          },
          "metadata": {},
          "execution_count": 14
        }
      ]
    },
    {
      "cell_type": "code",
      "source": [
        "model.evaluate(X_test, y_test)"
      ],
      "metadata": {
        "colab": {
          "base_uri": "https://localhost:8080/"
        },
        "id": "qTY4On9JzAGg",
        "outputId": "ce53424d-294b-4833-b18e-3027a7bb7df9"
      },
      "execution_count": null,
      "outputs": [
        {
          "output_type": "stream",
          "name": "stdout",
          "text": [
            "3636/3636 [==============================] - 50s 14ms/step - loss: 0.3885 - accuracy: 0.8637\n"
          ]
        },
        {
          "output_type": "execute_result",
          "data": {
            "text/plain": [
              "[0.3885347545146942, 0.8636898994445801]"
            ]
          },
          "metadata": {},
          "execution_count": 15
        }
      ]
    },
    {
      "cell_type": "code",
      "source": [
        "model_json = model.to_json()\n",
        "with open(\"model.json\", \"w\") as json_file:\n",
        "  json_file.write(model_json)\n",
        "  model.save_weights(\"/content/drive/MyDrive/character_reader2.h5\")\n",
        "  print(\"Saved model to disk\")"
      ],
      "metadata": {
        "colab": {
          "base_uri": "https://localhost:8080/"
        },
        "id": "dkD6VPY3IsvM",
        "outputId": "8152f192-3890-4e20-e5c4-1f8673012505"
      },
      "execution_count": null,
      "outputs": [
        {
          "output_type": "stream",
          "name": "stdout",
          "text": [
            "Saved model to disk\n"
          ]
        }
      ]
    },
    {
      "cell_type": "code",
      "source": [
        "from keras.models import Model"
      ],
      "metadata": {
        "id": "citBQUSeM1k6"
      },
      "execution_count": null,
      "outputs": []
    },
    {
      "cell_type": "code",
      "source": [
        "from tensorflow.keras.models.Model import load_weights"
      ],
      "metadata": {
        "id": "8_ROjgGZMgg9"
      },
      "execution_count": null,
      "outputs": []
    },
    {
      "cell_type": "code",
      "source": [
        "# model = emotion_recognition((48,48,1))\n",
        "# adam = keras.optimizers.Adam(learning_rate=0.001)\n",
        "# model.compile(optimizer=adam, loss='categorical_crossentropy', metrics=['accuracy'])\n",
        "model.load_weights('/content/drive/MyDrive/character_reader.h5')"
      ],
      "metadata": {
        "id": "Zwa_Mo8mL3gZ"
      },
      "execution_count": null,
      "outputs": []
    },
    {
      "cell_type": "code",
      "source": [],
      "metadata": {
        "id": "_hxWj-OgNpXo"
      },
      "execution_count": null,
      "outputs": []
    }
  ]
}